{
 "cells": [
  {
   "cell_type": "markdown",
   "id": "exterior-guess",
   "metadata": {},
   "source": [
    "# CRISP-DM: Stroke Prediction Dataset"
   ]
  },
  {
   "cell_type": "markdown",
   "id": "modified-leonard",
   "metadata": {},
   "source": [
    "## Objective\n",
    "\n",
    "The objective of this notebook is to practice and understand the CRISP-DM process to analyze a data set, applying to stroke case data set.\n",
    "\n",
    "It is also an Udacity Data science Nanodegree project."
   ]
  },
  {
   "cell_type": "markdown",
   "id": "dried-pierre",
   "metadata": {},
   "source": [
    "## What is CRISP-DM\n",
    "\n",
    "Follow a brief explaination of what is CRISP-DM.\n",
    "\n",
    "![CRISP-DM Process Diagram](https://upload.wikimedia.org/wikipedia/commons/thumb/b/b9/CRISP-DM_Process_Diagram.png/479px-CRISP-DM_Process_Diagram.png)\n",
    "[Image source](https://upload.wikimedia.org/wikipedia/commons/thumb/b/b9/CRISP-DM_Process_Diagram.png)\n",
    "\n",
    "The **CRISP-DM** stands for **CR**oss **I**ndustry **S**tandard **P**rocess for **D**ata **M**ining (CRISP-DM). It is a process model with six phases that describes the data science ( or machine learning project). The 6 phases are:\n",
    "\n",
    "1. Business Understanding\n",
    "2. Data Understanding\n",
    "3. Prepare Data\n",
    "4. Data Modeling\n",
    "5. Evaluate the Results\n",
    "6. Deploy\n",
    "\n",
    "### Business Understanding\n",
    "\n",
    "Here, you need to identify what kind of problem you or a company want to solve it. Also, you need to explain the objective and how you will measure the success or failure of the project.\n",
    "\n",
    "### Data Understanding\n",
    "\n",
    "In this step, you have to collect the data, describe it, verify its quality and volume, and explore it. You may need to handle empty or wrong data types while you explore the data set.\n",
    "\n",
    "### Data Preparation\n",
    "\n",
    "You probably will spend more time in this stage, comparing to any another stage. You are going to select, clean, construct, integrate (when there are more than one data source) and format the data to create the final data set.\n",
    "\n",
    "### Data Modeling\n",
    "\n",
    "Using the data set from previous phase, you will build models based on several modeling techniques. There is not a limit to amount of models you can build here. The performance of them will be used later and according to your assess method, a model should be selected.\n",
    "\n",
    "### Evaluation\n",
    "\n",
    "As the name of this stage suggest, you will evaluate the model in order to check if the objective of your project is reached.\n",
    "\n",
    "### Deploy\n",
    "\n",
    "For this final step, you will need to plan how you will deploy your model, how you will keep monitoring and maintain it, and present the final report and review of it."
   ]
  },
  {
   "cell_type": "markdown",
   "id": "casual-cherry",
   "metadata": {},
   "source": [
    "\n",
    "## Data set Information\n",
    "\n",
    "#### Attribute Information\n",
    "\n",
    "1. **id**: unique identifier\n",
    "2. **gender**: \"Male\", \"Female\" or \"Other\"\n",
    "3. **age**: age of the patient\n",
    "4. **hypertension**: 0 if the patient doesn't have hypertension, 1 if the patient has hypertension\n",
    "5. **heart_disease**: 0 if the patient doesn't have any heart diseases, 1 if the patient has a heart disease\n",
    "6. **ever_married**: \"No\" or \"Yes\"\n",
    "7. **work_type**: \"children\", \"Govt_job\", \"Never_worked\", \"Private\" or \"Self-employed\"\n",
    "8. **Residence_type**: \"Rural\" or \"Urban\"\n",
    "9. **avg_glucose_level**: average glucose level in blood\n",
    "10. **bmi**: body mass index\n",
    "11. **smoking_status**: \"formerly smoked\", \"never smoked\", \"smokes\" or \"Unknown\"\n",
    "12. **stroke**: 1 if the patient had a stroke or 0 if not\n",
    "\n",
    "**Note:** *Unknown* in smoking_status means that the information is unavailable for this patient\n",
    "\n",
    "#### Link\n",
    "[Kaggle Stroke Prediction Data set](https://www.kaggle.com/fedesoriano/stroke-prediction-dataset)\n",
    "\n",
    "*this data set is for educational porpuse* "
   ]
  },
  {
   "cell_type": "markdown",
   "id": "imported-message",
   "metadata": {},
   "source": [
    "## Business Understanding\n",
    "\n",
    "According to WHO (World Health Organization), Stroke (or cerebrovascular accidents) is the second leading cause of death and the third leading cause of disability worldwide.\n",
    "\n",
    "The stroke is caused by poor blood flow to the brain. This damages the part of brain which controls the parts of body.\n",
    "\n",
    "People at risk for stroke include those who have high blood pressure, high cholesterol, diabetes, heart disease or who smokes.\n",
    "\n",
    "The goal of this project is to find out if the stroke prediction will be performed better using only \"relevant\" information. In order to do that, I will analyze following points of data set and decide what I can remove from it:\n",
    "\n",
    "- Does the information about the work type important to this data set?\n",
    "\n",
    "- Does the marital status really relevant to predict a stroke? How about the residence type?\n",
    "\n",
    "- Considering the people who are underweight, how much percentage of stroke cases does it represent?\n"
   ]
  },
  {
   "cell_type": "markdown",
   "id": "monthly-allowance",
   "metadata": {},
   "source": [
    "## Data Understanding"
   ]
  },
  {
   "cell_type": "markdown",
   "id": "crazy-quest",
   "metadata": {},
   "source": [
    "### Loading the data set and exploring it"
   ]
  },
  {
   "cell_type": "code",
   "execution_count": 1,
   "id": "alpha-maple",
   "metadata": {},
   "outputs": [],
   "source": [
    "import numpy as np\n",
    "import pandas as pd\n",
    "import matplotlib.pyplot as plt\n",
    "import seaborn as sns\n",
    "%matplotlib inline\n",
    "\n",
    "# reading data\n",
    "df = pd.read_csv('./dataset/healthcare-dataset-stroke-data.csv')"
   ]
  },
  {
   "cell_type": "code",
   "execution_count": 2,
   "id": "moral-alloy",
   "metadata": {},
   "outputs": [
    {
     "data": {
      "text/html": [
       "<div>\n",
       "<style scoped>\n",
       "    .dataframe tbody tr th:only-of-type {\n",
       "        vertical-align: middle;\n",
       "    }\n",
       "\n",
       "    .dataframe tbody tr th {\n",
       "        vertical-align: top;\n",
       "    }\n",
       "\n",
       "    .dataframe thead th {\n",
       "        text-align: right;\n",
       "    }\n",
       "</style>\n",
       "<table border=\"1\" class=\"dataframe\">\n",
       "  <thead>\n",
       "    <tr style=\"text-align: right;\">\n",
       "      <th></th>\n",
       "      <th>id</th>\n",
       "      <th>gender</th>\n",
       "      <th>age</th>\n",
       "      <th>hypertension</th>\n",
       "      <th>heart_disease</th>\n",
       "      <th>ever_married</th>\n",
       "      <th>work_type</th>\n",
       "      <th>Residence_type</th>\n",
       "      <th>avg_glucose_level</th>\n",
       "      <th>bmi</th>\n",
       "      <th>smoking_status</th>\n",
       "      <th>stroke</th>\n",
       "    </tr>\n",
       "  </thead>\n",
       "  <tbody>\n",
       "    <tr>\n",
       "      <th>0</th>\n",
       "      <td>9046</td>\n",
       "      <td>Male</td>\n",
       "      <td>67.0</td>\n",
       "      <td>0</td>\n",
       "      <td>1</td>\n",
       "      <td>Yes</td>\n",
       "      <td>Private</td>\n",
       "      <td>Urban</td>\n",
       "      <td>228.69</td>\n",
       "      <td>36.6</td>\n",
       "      <td>formerly smoked</td>\n",
       "      <td>1</td>\n",
       "    </tr>\n",
       "    <tr>\n",
       "      <th>1</th>\n",
       "      <td>51676</td>\n",
       "      <td>Female</td>\n",
       "      <td>61.0</td>\n",
       "      <td>0</td>\n",
       "      <td>0</td>\n",
       "      <td>Yes</td>\n",
       "      <td>Self-employed</td>\n",
       "      <td>Rural</td>\n",
       "      <td>202.21</td>\n",
       "      <td>NaN</td>\n",
       "      <td>never smoked</td>\n",
       "      <td>1</td>\n",
       "    </tr>\n",
       "    <tr>\n",
       "      <th>2</th>\n",
       "      <td>31112</td>\n",
       "      <td>Male</td>\n",
       "      <td>80.0</td>\n",
       "      <td>0</td>\n",
       "      <td>1</td>\n",
       "      <td>Yes</td>\n",
       "      <td>Private</td>\n",
       "      <td>Rural</td>\n",
       "      <td>105.92</td>\n",
       "      <td>32.5</td>\n",
       "      <td>never smoked</td>\n",
       "      <td>1</td>\n",
       "    </tr>\n",
       "    <tr>\n",
       "      <th>3</th>\n",
       "      <td>60182</td>\n",
       "      <td>Female</td>\n",
       "      <td>49.0</td>\n",
       "      <td>0</td>\n",
       "      <td>0</td>\n",
       "      <td>Yes</td>\n",
       "      <td>Private</td>\n",
       "      <td>Urban</td>\n",
       "      <td>171.23</td>\n",
       "      <td>34.4</td>\n",
       "      <td>smokes</td>\n",
       "      <td>1</td>\n",
       "    </tr>\n",
       "    <tr>\n",
       "      <th>4</th>\n",
       "      <td>1665</td>\n",
       "      <td>Female</td>\n",
       "      <td>79.0</td>\n",
       "      <td>1</td>\n",
       "      <td>0</td>\n",
       "      <td>Yes</td>\n",
       "      <td>Self-employed</td>\n",
       "      <td>Rural</td>\n",
       "      <td>174.12</td>\n",
       "      <td>24.0</td>\n",
       "      <td>never smoked</td>\n",
       "      <td>1</td>\n",
       "    </tr>\n",
       "  </tbody>\n",
       "</table>\n",
       "</div>"
      ],
      "text/plain": [
       "      id  gender   age  hypertension  heart_disease ever_married  \\\n",
       "0   9046    Male  67.0             0              1          Yes   \n",
       "1  51676  Female  61.0             0              0          Yes   \n",
       "2  31112    Male  80.0             0              1          Yes   \n",
       "3  60182  Female  49.0             0              0          Yes   \n",
       "4   1665  Female  79.0             1              0          Yes   \n",
       "\n",
       "       work_type Residence_type  avg_glucose_level   bmi   smoking_status  \\\n",
       "0        Private          Urban             228.69  36.6  formerly smoked   \n",
       "1  Self-employed          Rural             202.21   NaN     never smoked   \n",
       "2        Private          Rural             105.92  32.5     never smoked   \n",
       "3        Private          Urban             171.23  34.4           smokes   \n",
       "4  Self-employed          Rural             174.12  24.0     never smoked   \n",
       "\n",
       "   stroke  \n",
       "0       1  \n",
       "1       1  \n",
       "2       1  \n",
       "3       1  \n",
       "4       1  "
      ]
     },
     "execution_count": 2,
     "metadata": {},
     "output_type": "execute_result"
    }
   ],
   "source": [
    "df.head()"
   ]
  },
  {
   "cell_type": "code",
   "execution_count": 3,
   "id": "direct-abortion",
   "metadata": {
    "scrolled": true
   },
   "outputs": [
    {
     "name": "stdout",
     "output_type": "stream",
     "text": [
      "Number of elements in this dataframe: 61320\n",
      "Number of rows: 5110\n",
      "Number of columns: 12\n"
     ]
    }
   ],
   "source": [
    "print('Number of elements in this dataframe: {}'.format(df.size))\n",
    "print('Number of rows: {}'.format(df.shape[0]))\n",
    "print('Number of columns: {}'.format(df.shape[1]))"
   ]
  },
  {
   "cell_type": "code",
   "execution_count": 4,
   "id": "developmental-pizza",
   "metadata": {
    "scrolled": false
   },
   "outputs": [
    {
     "data": {
      "text/plain": [
       "id                     int64\n",
       "gender                object\n",
       "age                  float64\n",
       "hypertension           int64\n",
       "heart_disease          int64\n",
       "ever_married          object\n",
       "work_type             object\n",
       "Residence_type        object\n",
       "avg_glucose_level    float64\n",
       "bmi                  float64\n",
       "smoking_status        object\n",
       "stroke                 int64\n",
       "dtype: object"
      ]
     },
     "execution_count": 4,
     "metadata": {},
     "output_type": "execute_result"
    }
   ],
   "source": [
    "# checking the data types\n",
    "df.dtypes"
   ]
  },
  {
   "cell_type": "code",
   "execution_count": 5,
   "id": "treated-background",
   "metadata": {},
   "outputs": [
    {
     "name": "stdout",
     "output_type": "stream",
     "text": [
      "Number of missing values\n",
      "\n",
      "column id: 0\n",
      "column gender: 1\n",
      "column age: 0\n",
      "column hypertension: 0\n",
      "column heart_disease: 0\n",
      "column ever_married: 0\n",
      "column work_type: 0\n",
      "column Residence_type: 0\n",
      "column avg_glucose_level: 0\n",
      "column bmi: 201\n",
      "column smoking_status: 0\n",
      "column stroke: 0\n"
     ]
    }
   ],
   "source": [
    "#replace 'Other' with NaN\n",
    "df.gender.replace('Other', np.nan, inplace=True)\n",
    "\n",
    "col_names = df.columns\n",
    "\n",
    "print('Number of missing values\\n')\n",
    "# checking NaN values in all columns\n",
    "for col in col_names:\n",
    "    print('column {}: {}'.format(col, np.sum(df[col].isnull() == True)))"
   ]
  },
  {
   "cell_type": "markdown",
   "id": "physical-lawrence",
   "metadata": {},
   "source": [
    "## Data Preparation\n",
    "### Data wragling and cleaning"
   ]
  },
  {
   "cell_type": "markdown",
   "id": "electronic-organ",
   "metadata": {},
   "source": [
    "First of all, the ID column will be removed. It only identify the patients and it is not providing any useful information."
   ]
  },
  {
   "cell_type": "code",
   "execution_count": 6,
   "id": "perfect-fiction",
   "metadata": {},
   "outputs": [],
   "source": [
    "# id column is not relevant for this data set\n",
    "df.drop(columns=['id'], axis=1, inplace=True)"
   ]
  },
  {
   "cell_type": "markdown",
   "id": "mighty-nerve",
   "metadata": {},
   "source": [
    "After that, I checked how many \"Other\" inputs are in the gender columns."
   ]
  },
  {
   "cell_type": "code",
   "execution_count": 7,
   "id": "commercial-religion",
   "metadata": {
    "scrolled": true
   },
   "outputs": [
    {
     "name": "stdout",
     "output_type": "stream",
     "text": [
      "Female    2994\n",
      "Male      2115\n",
      "Name: gender, dtype: int64\n",
      "\n"
     ]
    }
   ],
   "source": [
    "# checking quantity of \"Other\" in the gender column\n",
    "print('{}\\n'.format(df.gender.value_counts()))"
   ]
  },
  {
   "cell_type": "markdown",
   "id": "prescribed-entrepreneur",
   "metadata": {},
   "source": [
    "As we can see, there is only 1 \"Other\" input in entire gender column. So, it is fine to removed it, because it represents less than 0.02% of the data.\n",
    "\n",
    "It will be replaced by NaN value before its row is removed from the dataframe."
   ]
  },
  {
   "cell_type": "code",
   "execution_count": 8,
   "id": "pleasant-building",
   "metadata": {
    "scrolled": false
   },
   "outputs": [
    {
     "name": "stdout",
     "output_type": "stream",
     "text": [
      "number of missing values in the gender column: 0\n"
     ]
    }
   ],
   "source": [
    "# Since there was only 1 \"Other\" in the gender column, I will remove it from dataframe\n",
    "df.dropna(subset=['gender'], inplace=True, axis=0)\n",
    "\n",
    "# making sure that NaN from gender column was removed\n",
    "print('number of missing values in the {} column: {}'.format('gender', np.sum(df['gender'].isnull() == True)))"
   ]
  },
  {
   "cell_type": "markdown",
   "id": "median-consequence",
   "metadata": {},
   "source": [
    "Now, let's handle the NaN values in the bmi column."
   ]
  },
  {
   "cell_type": "code",
   "execution_count": 9,
   "id": "related-elder",
   "metadata": {
    "scrolled": true
   },
   "outputs": [
    {
     "data": {
      "text/plain": [
       "False    4908\n",
       "True      201\n",
       "Name: bmi, dtype: int64"
      ]
     },
     "execution_count": 9,
     "metadata": {},
     "output_type": "execute_result"
    }
   ],
   "source": [
    "df.bmi.isna().value_counts()"
   ]
  },
  {
   "cell_type": "code",
   "execution_count": 10,
   "id": "apart-ready",
   "metadata": {},
   "outputs": [],
   "source": [
    "df.bmi.fillna(df.bmi.mean(skipna=True), inplace=True)"
   ]
  },
  {
   "cell_type": "code",
   "execution_count": 11,
   "id": "unknown-alloy",
   "metadata": {},
   "outputs": [],
   "source": [
    "# age: convert to int\n",
    "df['age'] = df.age.astype(int)\n",
    "\n",
    "# gender: 0 = female and 1 = male\n",
    "df['gender'] = df.gender.map({'Female':0, 'Male':1})\n",
    "\n",
    "# ever_married: No = 0 and Yes = 1\n",
    "df['ever_married'] = df.ever_married.map({'No':0, 'Yes':1})\n",
    "\n",
    "# work_type: children = 0, Govt_jov = 1, Never_worked = 2, Private = 3 and Self-employed = 4\n",
    "df['work_type'] = df.work_type.map({'children':0, 'Govt_job':1, 'Never_worked':2, 'Private':3, 'Self-employed':4})\n",
    "\n",
    "# Residence_type: Rural = 0 and Urban = 1\n",
    "df['Residence_type'] = df.Residence_type.map({'Rural':0, 'Urban':1})\n",
    "\n",
    "# smoking_status: formerly smoked = 0, never smoked = 1, smokes = 2 and Unknown = 3\n",
    "df['smoking_status'] = df.smoking_status.map({'formerly smoked':0, 'never smoked':1,'smokes':2,'Unknown':3})\n",
    "\n",
    "# BMI: underweight = 0, healthy = 1, overweight = 2, obese = 3\n",
    "# obese: bmi >= 30\n",
    "# overweight: 25 <= bmi < 30\n",
    "# healty: 18.5 < bmi < 25\n",
    "# underweight: bmi <= 18.5\n",
    "# underweight\n",
    "df.loc[df['bmi'] < 18.6,'bmi'] = 0\n",
    "# obese\n",
    "df.loc[df['bmi'] > 29, 'bmi'] = 3\n",
    "# healthy\n",
    "df.loc[(df['bmi'] != 0) & (df['bmi'] != 3) & (df['bmi'] > 18.5) & (df['bmi'] < 25), 'bmi'] = 1\n",
    "# overweight\n",
    "df.loc[(df['bmi'] != 0) & (df['bmi'] != 3) & (df['bmi'] != 1), 'bmi'] = 2\n",
    "\n",
    "# avg_glucose_level: low glucose level = 0, normal glucose level = 1, high glucose level = 2\n",
    "# low glucose level\n",
    "df.loc[df['avg_glucose_level'] < 72,'avg_glucose_level'] = 0\n",
    "# high glucose level\n",
    "df.loc[df['avg_glucose_level'] > 99, 'avg_glucose_level'] = 2\n",
    "# normal glucose level\n",
    "df.loc[(df['avg_glucose_level'] != 2) & (df['avg_glucose_level'] != 0), 'avg_glucose_level'] = 1"
   ]
  },
  {
   "cell_type": "markdown",
   "id": "union-instruction",
   "metadata": {},
   "source": [
    "Link to know more about BMI: [here](https://www.cdc.gov/healthyweight/assessing/bmi/adult_bmi/index.html)\n",
    "\n",
    "According to [diabetes.co.uk](https://www.diabetes.co.uk/diabetes_care/blood-sugar-level-ranges.html), the normal glucose level range is 4 - 5.5 mmol/L (72 to 99 mg/dL).\n",
    "\n",
    "For this dataset, I will consider that all glucose level measurements were done before any meals."
   ]
  },
  {
   "cell_type": "code",
   "execution_count": 12,
   "id": "minor-killing",
   "metadata": {
    "scrolled": true
   },
   "outputs": [
    {
     "data": {
      "text/html": [
       "<div>\n",
       "<style scoped>\n",
       "    .dataframe tbody tr th:only-of-type {\n",
       "        vertical-align: middle;\n",
       "    }\n",
       "\n",
       "    .dataframe tbody tr th {\n",
       "        vertical-align: top;\n",
       "    }\n",
       "\n",
       "    .dataframe thead th {\n",
       "        text-align: right;\n",
       "    }\n",
       "</style>\n",
       "<table border=\"1\" class=\"dataframe\">\n",
       "  <thead>\n",
       "    <tr style=\"text-align: right;\">\n",
       "      <th></th>\n",
       "      <th>gender</th>\n",
       "      <th>age</th>\n",
       "      <th>hypertension</th>\n",
       "      <th>heart_disease</th>\n",
       "      <th>ever_married</th>\n",
       "      <th>work_type</th>\n",
       "      <th>Residence_type</th>\n",
       "      <th>avg_glucose_level</th>\n",
       "      <th>bmi</th>\n",
       "      <th>smoking_status</th>\n",
       "      <th>stroke</th>\n",
       "    </tr>\n",
       "  </thead>\n",
       "  <tbody>\n",
       "    <tr>\n",
       "      <th>0</th>\n",
       "      <td>1</td>\n",
       "      <td>67</td>\n",
       "      <td>0</td>\n",
       "      <td>1</td>\n",
       "      <td>1</td>\n",
       "      <td>3</td>\n",
       "      <td>1</td>\n",
       "      <td>2.0</td>\n",
       "      <td>3.0</td>\n",
       "      <td>0</td>\n",
       "      <td>1</td>\n",
       "    </tr>\n",
       "    <tr>\n",
       "      <th>1</th>\n",
       "      <td>0</td>\n",
       "      <td>61</td>\n",
       "      <td>0</td>\n",
       "      <td>0</td>\n",
       "      <td>1</td>\n",
       "      <td>4</td>\n",
       "      <td>0</td>\n",
       "      <td>2.0</td>\n",
       "      <td>2.0</td>\n",
       "      <td>1</td>\n",
       "      <td>1</td>\n",
       "    </tr>\n",
       "    <tr>\n",
       "      <th>2</th>\n",
       "      <td>1</td>\n",
       "      <td>80</td>\n",
       "      <td>0</td>\n",
       "      <td>1</td>\n",
       "      <td>1</td>\n",
       "      <td>3</td>\n",
       "      <td>0</td>\n",
       "      <td>2.0</td>\n",
       "      <td>3.0</td>\n",
       "      <td>1</td>\n",
       "      <td>1</td>\n",
       "    </tr>\n",
       "    <tr>\n",
       "      <th>3</th>\n",
       "      <td>0</td>\n",
       "      <td>49</td>\n",
       "      <td>0</td>\n",
       "      <td>0</td>\n",
       "      <td>1</td>\n",
       "      <td>3</td>\n",
       "      <td>1</td>\n",
       "      <td>2.0</td>\n",
       "      <td>3.0</td>\n",
       "      <td>2</td>\n",
       "      <td>1</td>\n",
       "    </tr>\n",
       "    <tr>\n",
       "      <th>4</th>\n",
       "      <td>0</td>\n",
       "      <td>79</td>\n",
       "      <td>1</td>\n",
       "      <td>0</td>\n",
       "      <td>1</td>\n",
       "      <td>4</td>\n",
       "      <td>0</td>\n",
       "      <td>2.0</td>\n",
       "      <td>1.0</td>\n",
       "      <td>1</td>\n",
       "      <td>1</td>\n",
       "    </tr>\n",
       "  </tbody>\n",
       "</table>\n",
       "</div>"
      ],
      "text/plain": [
       "   gender  age  hypertension  heart_disease  ever_married  work_type  \\\n",
       "0       1   67             0              1             1          3   \n",
       "1       0   61             0              0             1          4   \n",
       "2       1   80             0              1             1          3   \n",
       "3       0   49             0              0             1          3   \n",
       "4       0   79             1              0             1          4   \n",
       "\n",
       "   Residence_type  avg_glucose_level  bmi  smoking_status  stroke  \n",
       "0               1                2.0  3.0               0       1  \n",
       "1               0                2.0  2.0               1       1  \n",
       "2               0                2.0  3.0               1       1  \n",
       "3               1                2.0  3.0               2       1  \n",
       "4               0                2.0  1.0               1       1  "
      ]
     },
     "execution_count": 12,
     "metadata": {},
     "output_type": "execute_result"
    }
   ],
   "source": [
    "df.head()"
   ]
  },
  {
   "cell_type": "code",
   "execution_count": 13,
   "id": "sudden-timer",
   "metadata": {
    "scrolled": true
   },
   "outputs": [
    {
     "data": {
      "text/plain": [
       "<AxesSubplot:xlabel='age', ylabel='count'>"
      ]
     },
     "execution_count": 13,
     "metadata": {},
     "output_type": "execute_result"
    },
    {
     "data": {
      "image/png": "[encoded data removed]",
      "text/plain": [
       "<Figure size 1440x360 with 1 Axes>"
      ]
     },
     "metadata": {
      "needs_background": "light"
     },
     "output_type": "display_data"
    }
   ],
   "source": [
    "plt.figure(figsize=(20,5))\n",
    "sns.set_style(\"darkgrid\")\n",
    "sns.countplot(data=df, x='age', hue='stroke', palette=\"muted\")"
   ]
  },
  {
   "cell_type": "code",
   "execution_count": 14,
   "id": "apparent-transfer",
   "metadata": {
    "scrolled": true
   },
   "outputs": [
    {
     "name": "stdout",
     "output_type": "stream",
     "text": [
      "Number of cases between 0 to 37 years old: 3\n"
     ]
    }
   ],
   "source": [
    "print('Number of cases between 0 to 37 years old: {}'.format(np.sum((df['age'] <= 37) & (df['stroke'] == 1))))"
   ]
  },
  {
   "cell_type": "code",
   "execution_count": 15,
   "id": "painted-farming",
   "metadata": {},
   "outputs": [
    {
     "name": "stdout",
     "output_type": "stream",
     "text": [
      "Total of stroke cases: 249\n"
     ]
    }
   ],
   "source": [
    "print('Total of stroke cases: {}'.format(np.sum(df['stroke'] == 1)))"
   ]
  },
  {
   "cell_type": "markdown",
   "id": "recent-placement",
   "metadata": {},
   "source": [
    "The stroke cases are more common to who is 38 years old or older. For people younger than that age, stroke is rare (it represents less than 1% of total).\n",
    "\n",
    "Due to this fact, I am removing the data between 0 to 37 ages from dataframe."
   ]
  },
  {
   "cell_type": "code",
   "execution_count": 16,
   "id": "acceptable-appliance",
   "metadata": {},
   "outputs": [],
   "source": [
    "df = df.loc[df['age'] > 37]"
   ]
  },
  {
   "cell_type": "code",
   "execution_count": 17,
   "id": "genetic-pearl",
   "metadata": {},
   "outputs": [
    {
     "data": {
      "text/plain": [
       "<AxesSubplot:xlabel='age', ylabel='count'>"
      ]
     },
     "execution_count": 17,
     "metadata": {},
     "output_type": "execute_result"
    },
    {
     "data": {
      "image/png": "[encoded data removed]",
      "text/plain": [
       "<Figure size 1440x360 with 1 Axes>"
      ]
     },
     "metadata": {},
     "output_type": "display_data"
    }
   ],
   "source": [
    "plt.figure(figsize=(20,5))\n",
    "sns.set_style(\"darkgrid\")\n",
    "sns.countplot(data=df, x='age', hue='stroke')"
   ]
  },
  {
   "cell_type": "markdown",
   "id": "connected-image",
   "metadata": {},
   "source": [
    "## Correlation matrix"
   ]
  },
  {
   "cell_type": "code",
   "execution_count": 18,
   "id": "civilian-marketplace",
   "metadata": {
    "scrolled": false
   },
   "outputs": [
    {
     "data": {
      "text/plain": [
       "<AxesSubplot:>"
      ]
     },
     "execution_count": 18,
     "metadata": {},
     "output_type": "execute_result"
    },
    {
     "data": {
      "image/png": "[encoded data removed]",
      "text/plain": [
       "<Figure size 1080x720 with 2 Axes>"
      ]
     },
     "metadata": {},
     "output_type": "display_data"
    }
   ],
   "source": [
    "plt.figure(figsize=(15,10))\n",
    "sns.heatmap(df.corr(), annot=True, linewidths=.5, fmt=\".2f\")"
   ]
  },
  {
   "cell_type": "markdown",
   "id": "productive-peoples",
   "metadata": {},
   "source": [
    "## Exploring the correlation and answering the questions"
   ]
  },
  {
   "cell_type": "markdown",
   "id": "random-question",
   "metadata": {},
   "source": [
    "### **Question 1: Does the information about the work type important to this data set?**\n",
    "\n",
    "Taking a look into Correlation Matrix, stroke has minor correlation to work_type (0.03), comparing to another stroke risks factors. Also, there are correlations to hypertension (0.11) and heart_disease (0.11), two of main stroke cases. It is curious that work type is not correlated to avg_glucose_level."
   ]
  },
  {
   "cell_type": "code",
   "execution_count": 19,
   "id": "useful-geneva",
   "metadata": {
    "scrolled": false
   },
   "outputs": [
    {
     "data": {
      "image/png": "[encoded data removed]",
      "text/plain": [
       "<Figure size 1440x360 with 1 Axes>"
      ]
     },
     "metadata": {},
     "output_type": "display_data"
    }
   ],
   "source": [
    "plt.figure(figsize=(20,5))\n",
    "sns.set_style(\"darkgrid\")\n",
    "fig = sns.countplot(data=df, x='work_type', hue='stroke', palette='husl')"
   ]
  },
  {
   "cell_type": "code",
   "execution_count": 20,
   "id": "modular-quilt",
   "metadata": {},
   "outputs": [
    {
     "name": "stdout",
     "output_type": "stream",
     "text": [
      "Work type 1 stroke cases: 1.07%\n",
      "Work type 3 stroke cases: 4.8%\n",
      "Work type 4 stroke cases: 2.11%\n"
     ]
    }
   ],
   "source": [
    "print('Work type 1 stroke cases: {:.3}%'.format(100 * np.sum((df['work_type'] == 1) & (df['stroke'] == 1))/df.work_type.size))\n",
    "print('Work type 3 stroke cases: {:.3}%'.format(100 * np.sum((df['work_type'] == 3) & (df['stroke'] == 1))/df.work_type.size))\n",
    "print('Work type 4 stroke cases: {:.3}%'.format(100 * np.sum((df['work_type'] == 4) & (df['stroke'] == 1))/df.work_type.size))"
   ]
  },
  {
   "cell_type": "code",
   "execution_count": 21,
   "id": "prostate-reviewer",
   "metadata": {
    "scrolled": false
   },
   "outputs": [
    {
     "data": {
      "image/png": "[encoded data removed]",
      "text/plain": [
       "<Figure size 1440x360 with 1 Axes>"
      ]
     },
     "metadata": {},
     "output_type": "display_data"
    }
   ],
   "source": [
    "plt.figure(figsize=(20,5))\n",
    "sns.set_style(\"darkgrid\")\n",
    "fig = sns.countplot(data=df, x='work_type', hue='hypertension', palette='Set2')"
   ]
  },
  {
   "cell_type": "code",
   "execution_count": 22,
   "id": "precious-airfare",
   "metadata": {},
   "outputs": [
    {
     "name": "stdout",
     "output_type": "stream",
     "text": [
      "Work type 1 hypertension: 2.24%\n",
      "Work type 3 hypertension: 8.53%\n",
      "Work type 4 hypertension: 4.61%\n"
     ]
    }
   ],
   "source": [
    "print('Work type 1 hypertension: {:.3}%'.format(100 * np.sum((df['work_type'] == 1) & (df['hypertension'] == 1)) \\\n",
    "                                                / df.work_type.size))\n",
    "print('Work type 3 hypertension: {:.3}%'.format(100 * np.sum((df['work_type'] == 3) & (df['hypertension'] == 1)) \\\n",
    "                                                / df.work_type.size))\n",
    "print('Work type 4 hypertension: {:.3}%'.format(100 * np.sum((df['work_type'] == 4) & (df['hypertension'] == 1)) \\\n",
    "                                                / df.work_type.size))"
   ]
  },
  {
   "cell_type": "code",
   "execution_count": 23,
   "id": "worthy-suspension",
   "metadata": {
    "scrolled": true
   },
   "outputs": [
    {
     "data": {
      "image/png": "[encoded data removed]",
      "text/plain": [
       "<Figure size 1440x360 with 1 Axes>"
      ]
     },
     "metadata": {},
     "output_type": "display_data"
    }
   ],
   "source": [
    "plt.figure(figsize=(20,5))\n",
    "sns.set_style(\"darkgrid\")\n",
    "fig = sns.countplot(data=df, x='work_type', hue='heart_disease', palette = 'cool')"
   ]
  },
  {
   "cell_type": "code",
   "execution_count": 24,
   "id": "floral-genetics",
   "metadata": {},
   "outputs": [
    {
     "name": "stdout",
     "output_type": "stream",
     "text": [
      "Work type 1 heart disease: 1.17%\n",
      "Work type 3 heart disease: 5.06%\n",
      "Work type 4 heart disease: 2.63%\n"
     ]
    }
   ],
   "source": [
    "print('Work type 1 heart disease: {:.3}%'.format(100 * np.sum((df['work_type'] == 1) & (df['heart_disease'] == 1)) \\\n",
    "                                                 /df.work_type.size))\n",
    "print('Work type 3 heart disease: {:.3}%'.format(100 * np.sum((df['work_type'] == 3) & (df['heart_disease'] == 1)) \\\n",
    "                                                 /df.work_type.size))\n",
    "print('Work type 4 heart disease: {:.3}%'.format(100 * np.sum((df['work_type'] == 4) & (df['heart_disease'] == 1)) \\\n",
    "                                                 /df.work_type.size))"
   ]
  },
  {
   "cell_type": "markdown",
   "id": "plastic-render",
   "metadata": {},
   "source": [
    "From these informations, the people who work for governament or are self-employered have lower chances to develop hypertension or/and heart disease than those who work for a private company. So, depending of type of work it is possible to prevent hypertension and/or heart disease, which are 2 of main conditions to have a stroke. "
   ]
  },
  {
   "cell_type": "markdown",
   "id": "egyptian-portrait",
   "metadata": {},
   "source": [
    "### **Does the marital status really relevant to predict a stroke? How about the residence type?**"
   ]
  },
  {
   "cell_type": "code",
   "execution_count": 25,
   "id": "descending-princeton",
   "metadata": {
    "scrolled": true
   },
   "outputs": [
    {
     "data": {
      "text/plain": [
       "Text(0.5, 1.0, 'Stroke cases x ever_married')"
      ]
     },
     "execution_count": 25,
     "metadata": {},
     "output_type": "execute_result"
    },
    {
     "data": {
      "image/png": "[encoded data removed]",
      "text/plain": [
       "<Figure size 1440x360 with 1 Axes>"
      ]
     },
     "metadata": {},
     "output_type": "display_data"
    }
   ],
   "source": [
    "plt.figure(figsize=(20,5))\n",
    "sns.set_style(\"darkgrid\")\n",
    "fig = sns.countplot(data=df, x='ever_married', hue='stroke', palette='tab10')\n",
    "plt.title('Stroke cases x ever_married')"
   ]
  },
  {
   "cell_type": "code",
   "execution_count": 26,
   "id": "equivalent-solution",
   "metadata": {},
   "outputs": [],
   "source": [
    "# dataframe getting only stroke case\n",
    "df_stroke = df.copy()\n",
    "df_stroke = df_stroke.loc[df['stroke'] == 1]"
   ]
  },
  {
   "cell_type": "code",
   "execution_count": 27,
   "id": "egyptian-marking",
   "metadata": {
    "scrolled": true
   },
   "outputs": [
    {
     "data": {
      "text/plain": [
       "Text(0.5, 1.0, 'Stroke cases (positives) x ever_married')"
      ]
     },
     "execution_count": 27,
     "metadata": {},
     "output_type": "execute_result"
    },
    {
     "data": {
      "image/png": "[encoded data removed]",
      "text/plain": [
       "<Figure size 1440x360 with 1 Axes>"
      ]
     },
     "metadata": {},
     "output_type": "display_data"
    }
   ],
   "source": [
    "plt.figure(figsize=(20,5))\n",
    "sns.set_style(\"darkgrid\")\n",
    "fig = sns.countplot(data=df_stroke, x='ever_married', hue='stroke', palette='Set2')\n",
    "plt.title('Stroke cases (positives) x ever_married')"
   ]
  },
  {
   "cell_type": "code",
   "execution_count": 28,
   "id": "invalid-personality",
   "metadata": {
    "scrolled": true
   },
   "outputs": [
    {
     "name": "stdout",
     "output_type": "stream",
     "text": [
      "Stroke cases x ever_married (in percentage)\n",
      "\n",
      "Ever married: 7.1% (219 cases)\n",
      "Single: 0.876% (27 cases)\n",
      "Difference: 192 cases\n"
     ]
    }
   ],
   "source": [
    "stroke_ever_married = np.sum((df['ever_married'] == 1) & (df['stroke'] == 1))\n",
    "stroke_single = np.sum((df['ever_married'] == 0) & (df['stroke'] == 1))\n",
    "column_size = df.ever_married.size\n",
    "\n",
    "print('Stroke cases x ever_married (in percentage)\\n')\n",
    "print('Ever married: {:.3}% ({} cases)'.format(100 * stroke_ever_married/column_size, stroke_ever_married))\n",
    "print('Single: {:.3}% ({} cases)'.format(100 * stroke_single/column_size, stroke_single))\n",
    "print('Difference: {} cases'.format(stroke_ever_married - stroke_single))"
   ]
  },
  {
   "cell_type": "markdown",
   "id": "mathematical-disclosure",
   "metadata": {},
   "source": [
    "From these informations, ever married people have more chance to have a stroke comparing to single people.\n",
    "\n",
    "As a conclusion, this data may help to predict the stroke."
   ]
  },
  {
   "cell_type": "markdown",
   "id": "collective-speech",
   "metadata": {},
   "source": [
    "Now, let's see about the residence type."
   ]
  },
  {
   "cell_type": "code",
   "execution_count": 29,
   "id": "labeled-lewis",
   "metadata": {},
   "outputs": [
    {
     "name": "stdout",
     "output_type": "stream",
     "text": [
      "Urban residence: 1567\n",
      "Rural residence: 1516\n",
      "Diff: 51 (or 0.0165%)\n"
     ]
    },
    {
     "data": {
      "image/png": "[encoded data removed]",
      "text/plain": [
       "<Figure size 720x360 with 1 Axes>"
      ]
     },
     "metadata": {},
     "output_type": "display_data"
    }
   ],
   "source": [
    "#resident type\n",
    "stroke_urban = np.sum(df['Residence_type'] == 1)\n",
    "stroke_rural = np.sum(df['Residence_type'] == 0)\n",
    "res_diff = stroke_urban - stroke_rural\n",
    "\n",
    "print('Urban residence: {}'.format(stroke_urban))\n",
    "print('Rural residence: {}'.format(stroke_rural))\n",
    "print('Diff: {} (or {:.3}%)'.format(res_diff, res_diff/(stroke_urban + stroke_rural)))\n",
    "\n",
    "fig, ax = plt.subplots(figsize=(10,5))\n",
    "labels = ['Rural', 'Urban']\n",
    "sizes = [stroke_rural, stroke_urban]\n",
    "ax.pie(x=sizes, labels=labels, shadow=True, autopct='%.0f%%', textprops={'fontsize': 14})\n",
    "ax.set_title('Residence Type')\n",
    "plt.show()"
   ]
  },
  {
   "cell_type": "markdown",
   "id": "convenient-matter",
   "metadata": {},
   "source": [
    "As the correlation matrix already show us, there is not significant correlation between stroke and residence type. This can be verified finding the diff between the types. The difference of urban and rural residence is 0.015%. So, the residence type is not relevant to develop a condition to have a stroke."
   ]
  },
  {
   "cell_type": "markdown",
   "id": "emerging-probability",
   "metadata": {},
   "source": [
    "### **Question 3: Considering the people who are underweight, how much percentage of stroke cases does it represent?**"
   ]
  },
  {
   "cell_type": "markdown",
   "id": "ahead-algeria",
   "metadata": {},
   "source": [
    "The following table was extracted from Center for Disease Control and Prevention [website](https://www.cdc.gov/healthyweight/assessing/bmi/adult_bmi/index.html)"
   ]
  },
  {
   "cell_type": "markdown",
   "id": "honest-genius",
   "metadata": {},
   "source": [
    "| BMI           | Weight Status            |\n",
    "|:-------------:|:------------------------:|\n",
    "| Below 18.5    | Underweight              |\n",
    "| 18.5 - 24.9   | Normal or Healthy weight |\n",
    "| 25.0 - 29.9   | Overweight               |\n",
    "| Above 30      | Obese                    |"
   ]
  },
  {
   "cell_type": "code",
   "execution_count": 30,
   "id": "collaborative-jason",
   "metadata": {
    "scrolled": true
   },
   "outputs": [
    {
     "data": {
      "text/plain": [
       "Text(0.5, 1.0, 'Stroke x BMI')"
      ]
     },
     "execution_count": 30,
     "metadata": {},
     "output_type": "execute_result"
    },
    {
     "data": {
      "image/png": "[encoded data removed]",
      "text/plain": [
       "<Figure size 1440x360 with 1 Axes>"
      ]
     },
     "metadata": {},
     "output_type": "display_data"
    }
   ],
   "source": [
    "plt.figure(figsize=(20,5))\n",
    "sns.set_style(\"darkgrid\")\n",
    "fig = sns.countplot(data=df, x='bmi', hue='stroke', palette='plasma')\n",
    "plt.title('Stroke x BMI')"
   ]
  },
  {
   "cell_type": "code",
   "execution_count": 31,
   "id": "exterior-burton",
   "metadata": {},
   "outputs": [
    {
     "name": "stdout",
     "output_type": "stream",
     "text": [
      "Stroke cases divided by bmi\n",
      "\n",
      "Obese: 108 stroke cases\n",
      "Overweight: 102 stroke cases\n",
      "Healthy: 35 stroke cases\n",
      "Underweight: 1 stroke cases\n"
     ]
    }
   ],
   "source": [
    "# stroke case divided in 4 by bmi\n",
    "stroke_case_obese = np.sum((df['bmi'] == 3) & (df['stroke'] == 1))\n",
    "stroke_case_overweight = np.sum((df['bmi'] == 2) & (df['stroke'] == 1))\n",
    "stroke_case_healthy = np.sum((df['bmi'] == 1) & (df['stroke'] == 1))\n",
    "stroke_case_underweight = np.sum((df['bmi'] == 0) & (df['stroke'] == 1))\n",
    "\n",
    "print('Stroke cases divided by bmi\\n')\n",
    "print('Obese: {} stroke cases'.format(stroke_case_obese))\n",
    "print('Overweight: {} stroke cases'.format(stroke_case_overweight))\n",
    "print('Healthy: {} stroke cases'.format(stroke_case_healthy))\n",
    "print('Underweight: {} stroke cases'.format(stroke_case_underweight))"
   ]
  },
  {
   "cell_type": "code",
   "execution_count": 32,
   "id": "suitable-participation",
   "metadata": {
    "scrolled": true
   },
   "outputs": [
    {
     "data": {
      "image/png": "[encoded data removed]",
      "text/plain": [
       "<Figure size 720x360 with 1 Axes>"
      ]
     },
     "metadata": {},
     "output_type": "display_data"
    }
   ],
   "source": [
    "fig, ax = plt.subplots(figsize=(10,5))\n",
    "labels = ['underweight', 'healthy', 'overweight', 'obese']\n",
    "colors = ['#0D47A1', '#00C853', '#FF6D00', '#D50000']\n",
    "bmi = [stroke_case_underweight, stroke_case_healthy, stroke_case_overweight, stroke_case_obese]\n",
    "ax.pie(x=bmi, labels=labels, shadow=True, autopct='%.2f%%', textprops={'fontsize': 14}, colors=colors)\n",
    "ax.axis('equal')\n",
    "ax.set_title('Stroke cases x bmi')\n",
    "plt.show()"
   ]
  },
  {
   "cell_type": "markdown",
   "id": "polish-washington",
   "metadata": {},
   "source": [
    "The following charts will count and give us an idea of how many stroke cases there are basing on 3 main risk factors: hypertension, heart disease and glucose level."
   ]
  },
  {
   "cell_type": "code",
   "execution_count": 33,
   "id": "significant-batch",
   "metadata": {
    "scrolled": false
   },
   "outputs": [
    {
     "data": {
      "text/plain": [
       "Text(0.5, 1.0, 'Stroke cases: bmi x hypertension')"
      ]
     },
     "execution_count": 33,
     "metadata": {},
     "output_type": "execute_result"
    },
    {
     "data": {
      "image/png": "[encoded data removed]",
      "text/plain": [
       "<Figure size 1440x360 with 1 Axes>"
      ]
     },
     "metadata": {},
     "output_type": "display_data"
    }
   ],
   "source": [
    "plt.figure(figsize=(20,5))\n",
    "sns.set_style(\"darkgrid\")\n",
    "fig = sns.countplot(data=df_stroke, x='bmi', hue='hypertension', palette='Reds')\n",
    "plt.title('Stroke cases: bmi x hypertension')"
   ]
  },
  {
   "cell_type": "code",
   "execution_count": 34,
   "id": "sound-member",
   "metadata": {
    "scrolled": false
   },
   "outputs": [
    {
     "data": {
      "text/plain": [
       "Text(0.5, 1.0, 'Stroke cases: bmi x heart_disease')"
      ]
     },
     "execution_count": 34,
     "metadata": {},
     "output_type": "execute_result"
    },
    {
     "data": {
      "image/png": "[encoded data removed]",
      "text/plain": [
       "<Figure size 1440x360 with 1 Axes>"
      ]
     },
     "metadata": {},
     "output_type": "display_data"
    }
   ],
   "source": [
    "plt.figure(figsize=(20,5))\n",
    "sns.set_style(\"darkgrid\")\n",
    "fig = sns.countplot(data=df_stroke, x='bmi', hue='heart_disease', palette='Greens')\n",
    "plt.title('Stroke cases: bmi x heart_disease')"
   ]
  },
  {
   "cell_type": "code",
   "execution_count": 35,
   "id": "ideal-mailman",
   "metadata": {
    "scrolled": true
   },
   "outputs": [
    {
     "data": {
      "text/plain": [
       "Text(0.5, 1.0, 'Stroke cases: bmi x avg_glucose_level')"
      ]
     },
     "execution_count": 35,
     "metadata": {},
     "output_type": "execute_result"
    },
    {
     "data": {
      "image/png": "[encoded data removed]",
      "text/plain": [
       "<Figure size 1440x360 with 1 Axes>"
      ]
     },
     "metadata": {},
     "output_type": "display_data"
    }
   ],
   "source": [
    "plt.figure(figsize=(20,5))\n",
    "sns.set_style(\"darkgrid\")\n",
    "fig = sns.countplot(data=df_stroke, x='bmi', hue='avg_glucose_level', palette='Blues')\n",
    "plt.title('Stroke cases: bmi x avg_glucose_level')"
   ]
  },
  {
   "cell_type": "markdown",
   "id": "physical-russia",
   "metadata": {},
   "source": [
    "The stroke cases for underweight patients are rare and the amount of samples from this category isn't significant. Considering this fact, I can remove underweight rows from the data frame."
   ]
  },
  {
   "cell_type": "code",
   "execution_count": 36,
   "id": "attractive-poison",
   "metadata": {},
   "outputs": [],
   "source": [
    "final_df = df.copy()\n",
    "final_df.drop(final_df[(final_df.bmi == 0)].index, inplace=True)\n",
    "final_df.drop(df['Residence_type'], inplace=True)"
   ]
  },
  {
   "cell_type": "markdown",
   "id": "hollow-contributor",
   "metadata": {},
   "source": [
    "### Modeling"
   ]
  },
  {
   "cell_type": "code",
   "execution_count": 37,
   "id": "sorted-raising",
   "metadata": {},
   "outputs": [],
   "source": [
    "from numpy import unique\n",
    "from numpy import argmax\n",
    "from tensorflow.keras.models import Sequential\n",
    "from tensorflow.keras.layers import Dense\n",
    "from sklearn.metrics import accuracy_score\n",
    "from sklearn.model_selection import train_test_split\n",
    "from sklearn.preprocessing import LabelEncoder\n",
    "# Synthetic Minority Over-Sampling Technique\n",
    "from imblearn.over_sampling import SMOTE\n",
    "from sklearn.preprocessing import StandardScaler\n",
    "\n",
    "# the data is unbalanced due to majority of data are about negative cases.\n",
    "# unbalanced data will be biased in favor of majority class.\n",
    "# in order to balance it, smote is used here.\n",
    "smote = SMOTE(random_state=42)\n",
    "\n",
    "# all: before removing the Residence_type column and underweight values from bmi\n",
    "X_all = df[['gender', 'age', 'hypertension', 'heart_disease', 'ever_married', 'work_type',\\\n",
    "        'avg_glucose_level', 'bmi','Residence_type','smoking_status']]\n",
    "\n",
    "y_all = df[['stroke']]\n",
    "\n",
    "# final: only relevant features\n",
    "X_final = final_df[['gender', 'age', 'hypertension', 'heart_disease', 'ever_married', 'work_type',\\\n",
    "        'avg_glucose_level', 'bmi','smoking_status']]\n",
    "\n",
    "y_final = final_df[['stroke']]\n",
    "\n",
    "# preparing the training and test data using all features\n",
    "# number of features\n",
    "n_features = X_all.shape[1]\n",
    "\n",
    "# number of classes\n",
    "n_class = len(unique(y_all))\n",
    "\n",
    "# resample the dataset\n",
    "x_oversample, y_oversample = smote.fit_resample(X_all, y_all.values.ravel())\n",
    "\n",
    "X_all_train, X_all_test, y_all_train, y_all_test = train_test_split(x_oversample,\n",
    "                                                                    y_oversample,\n",
    "                                                                    test_size=0.4,\n",
    "                                                                    random_state=42,\n",
    "                                                                    shuffle=True)\n",
    "\n",
    "# normalize data\n",
    "scaler = StandardScaler()\n",
    "X_all_train = scaler.fit_transform(X_all_train)\n",
    "X_all_test = scaler.transform(X_all_test)\n",
    "\n",
    "# preparing the training and test data using relevant features\n",
    "# number of features\n",
    "n_features = X_final.shape[1]\n",
    "\n",
    "# number of classes\n",
    "n_class = len(unique(y_final))\n",
    "\n",
    "# resample the dataset\n",
    "x_oversample, y_oversample = smote.fit_resample(X_final, y_final.values.ravel())\n",
    "\n",
    "X_final_train, X_final_test, y_final_train, y_final_test = train_test_split(x_oversample,\n",
    "                                                                            y_oversample,\n",
    "                                                                            test_size=0.4,\n",
    "                                                                            random_state=42,\n",
    "                                                                            shuffle=True)\n",
    "\n",
    "# normalize data\n",
    "scaler = StandardScaler()\n",
    "X_final_train = scaler.fit_transform(X_final_train)\n",
    "X_final_test = scaler.transform(X_final_test)"
   ]
  },
  {
   "cell_type": "markdown",
   "id": "improved-romance",
   "metadata": {},
   "source": [
    "Here, we are going to use 3 kind of models: Logistic Regression, Random Forest and Neural Network.\n",
    "\n",
    "* Logistic Regression: The one of most simple and commonly used machine learning algorithm for binary classification problem.\n",
    "\n",
    "* Random Forest: It is a supervised learning algorithm. It is most flexible and easy to use algorithm.\n",
    "\n",
    "* Neural Network (NN): It is a network of nodes, building the similar structure as the biologica neuron network. It is usually composed by 3 layers: input layer, hidden layer and output layer. Below, you can check a simple NN figure.\n",
    "\n",
    "![Example of Neural Network](https://cdn.chipkin.com/assets/uploads/2020/Jun/Neural%20Network%20Diagram_26-17-07-01.png)\n",
    "[Image source](https://cdn.chipkin.com/assets/uploads/2020/Jun/Neural%20Network%20Diagram_26-17-07-01.png)\n"
   ]
  },
  {
   "cell_type": "markdown",
   "id": "valuable-detail",
   "metadata": {},
   "source": [
    "There is no amount of models to be used in this step. You can use any model or algorithm that you think it will predict better your dataset."
   ]
  },
  {
   "cell_type": "markdown",
   "id": "basic-staff",
   "metadata": {},
   "source": [
    "In following cells, I will train and evaluate each one of models."
   ]
  },
  {
   "cell_type": "markdown",
   "id": "disabled-container",
   "metadata": {},
   "source": [
    "### Logistic Regression"
   ]
  },
  {
   "cell_type": "code",
   "execution_count": 38,
   "id": "internal-oakland",
   "metadata": {
    "scrolled": true
   },
   "outputs": [],
   "source": [
    "# logistic Regression Model\n",
    "from sklearn.linear_model import LogisticRegression\n",
    "from sklearn import metrics\n",
    "\n",
    "#model using all features\n",
    "lrm_all = LogisticRegression(random_state = 42)\n",
    "lrm_all.fit(X_all_train, y_all_train)\n",
    "y_pred_lrm_all = lrm_all.predict(X_all_test)\n",
    "cr_lrm_all = metrics.classification_report(y_all_test, y_pred_lrm_all)\n",
    "\n",
    "#model using relevant features\n",
    "lrm_final = LogisticRegression(random_state = 42)\n",
    "lrm_final.fit(X_final_train, y_final_train)\n",
    "y_pred_lrm_final = lrm_final.predict(X_final_test)\n",
    "cr_lrm_final = metrics.classification_report(y_final_test, y_pred_lrm_final)"
   ]
  },
  {
   "cell_type": "code",
   "execution_count": 39,
   "id": "dynamic-hardwood",
   "metadata": {},
   "outputs": [
    {
     "name": "stdout",
     "output_type": "stream",
     "text": [
      "              precision    recall  f1-score   support\n",
      "\n",
      "           0       0.72      0.71      0.71      1149\n",
      "           1       0.71      0.72      0.71      1121\n",
      "\n",
      "    accuracy                           0.71      2270\n",
      "   macro avg       0.71      0.71      0.71      2270\n",
      "weighted avg       0.71      0.71      0.71      2270\n",
      "\n",
      "              precision    recall  f1-score   support\n",
      "\n",
      "           0       0.70      0.71      0.71      1136\n",
      "           1       0.70      0.69      0.70      1113\n",
      "\n",
      "    accuracy                           0.70      2249\n",
      "   macro avg       0.70      0.70      0.70      2249\n",
      "weighted avg       0.70      0.70      0.70      2249\n",
      "\n"
     ]
    }
   ],
   "source": [
    "print(cr_lrm_all)\n",
    "print(cr_lrm_final)"
   ]
  },
  {
   "cell_type": "markdown",
   "id": "basic-roommate",
   "metadata": {},
   "source": [
    "### Random Forest"
   ]
  },
  {
   "cell_type": "code",
   "execution_count": 40,
   "id": "empirical-physics",
   "metadata": {
    "scrolled": false
   },
   "outputs": [],
   "source": [
    "# Random Forest model\n",
    "from sklearn.ensemble import RandomForestClassifier\n",
    "\n",
    "#model using all features\n",
    "rfm_all = RandomForestClassifier(n_estimators = 100)\n",
    "rfm_all.fit(X_all_train, y_all_train)\n",
    "y_pred_rfm_all = rfm_all.predict(X_all_test)\n",
    "cr_rfm_all = metrics.classification_report(y_all_test, y_pred_rfm_all)\n",
    "\n",
    "#model using relevant features\n",
    "rfm_final = RandomForestClassifier(n_estimators = 100)\n",
    "rfm_final.fit(X_final_train, y_final_train)\n",
    "y_pred_rfm_final = rfm_final.predict(X_final_test)\n",
    "cr_rfm_final = metrics.classification_report(y_final_test, y_pred_rfm_final)"
   ]
  },
  {
   "cell_type": "code",
   "execution_count": 41,
   "id": "restricted-convenience",
   "metadata": {},
   "outputs": [
    {
     "name": "stdout",
     "output_type": "stream",
     "text": [
      "              precision    recall  f1-score   support\n",
      "\n",
      "           0       0.93      0.92      0.93      1149\n",
      "           1       0.92      0.93      0.93      1121\n",
      "\n",
      "    accuracy                           0.93      2270\n",
      "   macro avg       0.93      0.93      0.93      2270\n",
      "weighted avg       0.93      0.93      0.93      2270\n",
      "\n",
      "              precision    recall  f1-score   support\n",
      "\n",
      "           0       0.92      0.92      0.92      1136\n",
      "           1       0.92      0.91      0.92      1113\n",
      "\n",
      "    accuracy                           0.92      2249\n",
      "   macro avg       0.92      0.92      0.92      2249\n",
      "weighted avg       0.92      0.92      0.92      2249\n",
      "\n"
     ]
    }
   ],
   "source": [
    "print(cr_rfm_all)\n",
    "print(cr_rfm_final)"
   ]
  },
  {
   "cell_type": "markdown",
   "id": "integrated-roots",
   "metadata": {},
   "source": [
    "### Neural Network"
   ]
  },
  {
   "cell_type": "code",
   "execution_count": 42,
   "id": "absolute-capitol",
   "metadata": {},
   "outputs": [
    {
     "name": "stdout",
     "output_type": "stream",
     "text": [
      "Iteration 1, loss = 0.58116372\n",
      "Iteration 2, loss = 0.51044682\n",
      "Iteration 3, loss = 0.48580788\n",
      "Iteration 4, loss = 0.47000676\n",
      "Iteration 5, loss = 0.45714455\n",
      "Iteration 6, loss = 0.45444714\n",
      "Iteration 7, loss = 0.44434707\n",
      "Iteration 8, loss = 0.43712617\n",
      "Iteration 9, loss = 0.43427481\n",
      "Iteration 10, loss = 0.42405582\n",
      "Iteration 11, loss = 0.42372731\n",
      "Iteration 12, loss = 0.41699788\n",
      "Iteration 13, loss = 0.41402463\n",
      "Iteration 14, loss = 0.40927206\n",
      "Iteration 15, loss = 0.40394385\n",
      "Iteration 16, loss = 0.40518036\n",
      "Iteration 17, loss = 0.39301396\n",
      "Iteration 18, loss = 0.39014624\n",
      "Iteration 19, loss = 0.39103395\n",
      "Iteration 20, loss = 0.38502058\n",
      "Iteration 21, loss = 0.38093141\n",
      "Iteration 22, loss = 0.38345799\n",
      "Iteration 23, loss = 0.37892933\n",
      "Iteration 24, loss = 0.37617460\n",
      "Iteration 25, loss = 0.37646159\n",
      "Iteration 26, loss = 0.36540962\n",
      "Iteration 27, loss = 0.36681403\n",
      "Iteration 28, loss = 0.36116976\n",
      "Iteration 29, loss = 0.35693640\n",
      "Iteration 30, loss = 0.35992967\n",
      "Iteration 31, loss = 0.35234534\n",
      "Iteration 32, loss = 0.34547215\n",
      "Iteration 33, loss = 0.34898856\n",
      "Iteration 34, loss = 0.34469165\n",
      "Iteration 35, loss = 0.33940841\n",
      "Iteration 36, loss = 0.34048352\n",
      "Iteration 37, loss = 0.33474770\n",
      "Iteration 38, loss = 0.33528861\n",
      "Iteration 39, loss = 0.33773387\n",
      "Iteration 40, loss = 0.33240589\n",
      "Iteration 41, loss = 0.33375554\n",
      "Iteration 42, loss = 0.32980971\n",
      "Iteration 43, loss = 0.32855794\n",
      "Iteration 44, loss = 0.32632103\n",
      "Iteration 45, loss = 0.32738503\n",
      "Iteration 46, loss = 0.32503733\n",
      "Iteration 47, loss = 0.31917816\n",
      "Iteration 48, loss = 0.32894974\n",
      "Iteration 49, loss = 0.32280603\n",
      "Iteration 50, loss = 0.32251459\n",
      "Iteration 51, loss = 0.32051789\n",
      "Iteration 52, loss = 0.31970194\n",
      "Iteration 53, loss = 0.31776481\n",
      "Iteration 54, loss = 0.31161705\n",
      "Iteration 55, loss = 0.31432550\n",
      "Iteration 56, loss = 0.31293301\n",
      "Iteration 57, loss = 0.31159776\n",
      "Iteration 58, loss = 0.31313782\n",
      "Iteration 59, loss = 0.30948283\n",
      "Iteration 60, loss = 0.30358556\n",
      "Iteration 61, loss = 0.30496253\n",
      "Iteration 62, loss = 0.30396704\n",
      "Iteration 63, loss = 0.30195785\n",
      "Iteration 64, loss = 0.30524804\n",
      "Iteration 65, loss = 0.30740572\n",
      "Iteration 66, loss = 0.29887943\n",
      "Iteration 67, loss = 0.30152890\n",
      "Iteration 68, loss = 0.29705490\n",
      "Iteration 69, loss = 0.30028010\n",
      "Iteration 70, loss = 0.29256443\n",
      "Iteration 71, loss = 0.29940743\n",
      "Iteration 72, loss = 0.29303279\n",
      "Iteration 73, loss = 0.28994388\n",
      "Iteration 74, loss = 0.29161145\n",
      "Iteration 75, loss = 0.29265969\n",
      "Iteration 76, loss = 0.29046070\n",
      "Iteration 77, loss = 0.29500440\n",
      "Iteration 78, loss = 0.28251672\n",
      "Iteration 79, loss = 0.28338971\n",
      "Iteration 80, loss = 0.28215416\n",
      "Iteration 81, loss = 0.28016591\n",
      "Iteration 82, loss = 0.28563481\n",
      "Iteration 83, loss = 0.28319259\n",
      "Iteration 84, loss = 0.28812466\n",
      "Iteration 85, loss = 0.27691356\n",
      "Iteration 86, loss = 0.28194810\n",
      "Iteration 87, loss = 0.27738549\n",
      "Iteration 88, loss = 0.27870164\n",
      "Iteration 89, loss = 0.28144482\n",
      "Iteration 90, loss = 0.27891018\n",
      "Iteration 91, loss = 0.28427433\n",
      "Iteration 92, loss = 0.27547415\n",
      "Iteration 93, loss = 0.27737813\n",
      "Iteration 94, loss = 0.27596941\n",
      "Iteration 95, loss = 0.27292567\n",
      "Iteration 96, loss = 0.27429268\n",
      "Iteration 97, loss = 0.27318212\n",
      "Iteration 98, loss = 0.27136162\n",
      "Iteration 99, loss = 0.27550881\n",
      "Iteration 100, loss = 0.27141811\n",
      "Iteration 101, loss = 0.27477847\n",
      "Iteration 102, loss = 0.27567620\n",
      "Iteration 103, loss = 0.26814785\n",
      "Iteration 104, loss = 0.26928563\n",
      "Iteration 105, loss = 0.27040521\n",
      "Iteration 106, loss = 0.26457836\n",
      "Iteration 107, loss = 0.26627445\n",
      "Iteration 108, loss = 0.26933577\n",
      "Iteration 109, loss = 0.27536392\n",
      "Iteration 110, loss = 0.27357863\n",
      "Iteration 111, loss = 0.26639057\n",
      "Iteration 112, loss = 0.26690345\n",
      "Iteration 113, loss = 0.26171640\n",
      "Iteration 114, loss = 0.26255418\n",
      "Iteration 115, loss = 0.26076537\n",
      "Iteration 116, loss = 0.27483522\n",
      "Iteration 117, loss = 0.26375897\n",
      "Iteration 118, loss = 0.26376708\n",
      "Iteration 119, loss = 0.25653105\n",
      "Iteration 120, loss = 0.26694056\n",
      "Iteration 121, loss = 0.26294165\n",
      "Iteration 122, loss = 0.25897865\n",
      "Iteration 123, loss = 0.26137208\n",
      "Iteration 124, loss = 0.25634592\n",
      "Iteration 125, loss = 0.26301399\n",
      "Iteration 126, loss = 0.26613966\n",
      "Iteration 127, loss = 0.26050244\n",
      "Iteration 128, loss = 0.25223241\n",
      "Iteration 129, loss = 0.25582567\n",
      "Iteration 130, loss = 0.25532535\n",
      "Iteration 131, loss = 0.26249267\n",
      "Iteration 132, loss = 0.25724400\n",
      "Iteration 133, loss = 0.25792578\n",
      "Iteration 134, loss = 0.25159641\n",
      "Iteration 135, loss = 0.25203956\n",
      "Iteration 136, loss = 0.25850641\n",
      "Iteration 137, loss = 0.26365205\n",
      "Iteration 138, loss = 0.25238433\n",
      "Iteration 139, loss = 0.26105978\n",
      "Iteration 140, loss = 0.25747579\n",
      "Iteration 141, loss = 0.25548311\n",
      "Iteration 142, loss = 0.24927831\n",
      "Iteration 143, loss = 0.25348046\n",
      "Iteration 144, loss = 0.25647353\n",
      "Iteration 145, loss = 0.25410714\n",
      "Iteration 146, loss = 0.25334061\n",
      "Iteration 147, loss = 0.25120527\n",
      "Iteration 148, loss = 0.24596345\n",
      "Iteration 149, loss = 0.25224425\n",
      "Iteration 150, loss = 0.26014557\n",
      "Iteration 151, loss = 0.25183966\n",
      "Iteration 152, loss = 0.24370806\n",
      "Iteration 153, loss = 0.25368641\n",
      "Iteration 154, loss = 0.24904374\n",
      "Iteration 155, loss = 0.25495286\n",
      "Iteration 156, loss = 0.24438326\n",
      "Iteration 157, loss = 0.24668076\n",
      "Iteration 158, loss = 0.24625182\n",
      "Iteration 159, loss = 0.25540963\n",
      "Iteration 160, loss = 0.24881181\n",
      "Iteration 161, loss = 0.25170796\n",
      "Iteration 162, loss = 0.24491937\n",
      "Iteration 163, loss = 0.24338495\n",
      "Iteration 164, loss = 0.24572467\n",
      "Iteration 165, loss = 0.25260095\n",
      "Iteration 166, loss = 0.24873460\n",
      "Iteration 167, loss = 0.24667620\n",
      "Iteration 168, loss = 0.23737257\n",
      "Iteration 169, loss = 0.24882076\n",
      "Iteration 170, loss = 0.25169704\n",
      "Iteration 171, loss = 0.24751552\n",
      "Iteration 172, loss = 0.24250439\n",
      "Iteration 173, loss = 0.24073280\n",
      "Iteration 174, loss = 0.24167397\n",
      "Iteration 175, loss = 0.23913930\n",
      "Iteration 176, loss = 0.24383780\n",
      "Iteration 177, loss = 0.24275111\n",
      "Iteration 178, loss = 0.24005915\n",
      "Iteration 179, loss = 0.23889372\n",
      "Training loss did not improve more than tol=0.000010 for 10 consecutive epochs. Stopping.\n",
      "Iteration 1, loss = 0.60507711\n",
      "Iteration 2, loss = 0.52358511\n",
      "Iteration 3, loss = 0.49968525\n",
      "Iteration 4, loss = 0.48478984\n",
      "Iteration 5, loss = 0.47437285\n",
      "Iteration 6, loss = 0.46396135\n",
      "Iteration 7, loss = 0.45796568\n",
      "Iteration 8, loss = 0.45290169\n",
      "Iteration 9, loss = 0.44265699\n",
      "Iteration 10, loss = 0.43673728\n",
      "Iteration 11, loss = 0.43360811\n",
      "Iteration 12, loss = 0.42945426\n",
      "Iteration 13, loss = 0.42008110\n",
      "Iteration 14, loss = 0.41754676\n",
      "Iteration 15, loss = 0.41129876\n",
      "Iteration 16, loss = 0.40731735\n",
      "Iteration 17, loss = 0.40443552\n",
      "Iteration 18, loss = 0.39848278\n",
      "Iteration 19, loss = 0.39623013\n",
      "Iteration 20, loss = 0.39546008\n",
      "Iteration 21, loss = 0.39156606\n",
      "Iteration 22, loss = 0.38786578\n",
      "Iteration 23, loss = 0.38920073\n",
      "Iteration 24, loss = 0.38686576\n",
      "Iteration 25, loss = 0.38264964\n",
      "Iteration 26, loss = 0.37489003\n",
      "Iteration 27, loss = 0.37578244\n",
      "Iteration 28, loss = 0.37327320\n",
      "Iteration 29, loss = 0.37079101\n",
      "Iteration 30, loss = 0.36527141\n",
      "Iteration 31, loss = 0.36247977\n",
      "Iteration 32, loss = 0.35811134\n",
      "Iteration 33, loss = 0.36076994\n",
      "Iteration 34, loss = 0.35043232\n",
      "Iteration 35, loss = 0.36137608\n",
      "Iteration 36, loss = 0.34896896\n",
      "Iteration 37, loss = 0.34752739\n",
      "Iteration 38, loss = 0.34334172\n",
      "Iteration 39, loss = 0.33753336\n",
      "Iteration 40, loss = 0.34521985\n",
      "Iteration 41, loss = 0.33809286\n",
      "Iteration 42, loss = 0.33681298\n",
      "Iteration 43, loss = 0.33884205\n",
      "Iteration 44, loss = 0.33071323\n",
      "Iteration 45, loss = 0.33238917\n",
      "Iteration 46, loss = 0.32970890\n",
      "Iteration 47, loss = 0.33622344\n",
      "Iteration 48, loss = 0.32720912\n",
      "Iteration 49, loss = 0.32333283\n",
      "Iteration 50, loss = 0.33176876\n",
      "Iteration 51, loss = 0.31824042\n",
      "Iteration 52, loss = 0.33388672\n",
      "Iteration 53, loss = 0.32644305\n",
      "Iteration 54, loss = 0.32430876\n",
      "Iteration 55, loss = 0.32459831\n",
      "Iteration 56, loss = 0.31589746\n",
      "Iteration 57, loss = 0.31653019\n",
      "Iteration 58, loss = 0.31459549\n",
      "Iteration 59, loss = 0.31367807\n",
      "Iteration 60, loss = 0.31200898\n",
      "Iteration 61, loss = 0.31115789\n",
      "Iteration 62, loss = 0.31869265\n",
      "Iteration 63, loss = 0.31041062\n",
      "Iteration 64, loss = 0.30448070\n",
      "Iteration 65, loss = 0.31247229\n",
      "Iteration 66, loss = 0.30903413\n",
      "Iteration 67, loss = 0.30358733\n",
      "Iteration 68, loss = 0.30312572\n",
      "Iteration 69, loss = 0.30243494\n",
      "Iteration 70, loss = 0.30795894\n",
      "Iteration 71, loss = 0.30255969\n",
      "Iteration 72, loss = 0.30647201\n",
      "Iteration 73, loss = 0.29746142\n",
      "Iteration 74, loss = 0.29362202\n"
     ]
    },
    {
     "name": "stdout",
     "output_type": "stream",
     "text": [
      "Iteration 75, loss = 0.29758883\n",
      "Iteration 76, loss = 0.29743244\n",
      "Iteration 77, loss = 0.29419176\n",
      "Iteration 78, loss = 0.29175760\n",
      "Iteration 79, loss = 0.28963732\n",
      "Iteration 80, loss = 0.29266610\n",
      "Iteration 81, loss = 0.29986133\n",
      "Iteration 82, loss = 0.29411029\n",
      "Iteration 83, loss = 0.29167933\n",
      "Iteration 84, loss = 0.28908198\n",
      "Iteration 85, loss = 0.28404410\n",
      "Iteration 86, loss = 0.28869058\n",
      "Iteration 87, loss = 0.28478896\n",
      "Iteration 88, loss = 0.28355748\n",
      "Iteration 89, loss = 0.29007639\n",
      "Iteration 90, loss = 0.28078197\n",
      "Iteration 91, loss = 0.29353952\n",
      "Iteration 92, loss = 0.28278882\n",
      "Iteration 93, loss = 0.28790038\n",
      "Iteration 94, loss = 0.28719883\n",
      "Iteration 95, loss = 0.28395758\n",
      "Iteration 96, loss = 0.27361208\n",
      "Iteration 97, loss = 0.27808418\n",
      "Iteration 98, loss = 0.27290888\n",
      "Iteration 99, loss = 0.28392266\n",
      "Iteration 100, loss = 0.27663454\n",
      "Iteration 101, loss = 0.27145450\n",
      "Iteration 102, loss = 0.27984877\n",
      "Iteration 103, loss = 0.27703723\n",
      "Iteration 104, loss = 0.28240030\n",
      "Iteration 105, loss = 0.27567948\n",
      "Iteration 106, loss = 0.27798445\n",
      "Iteration 107, loss = 0.27552567\n",
      "Iteration 108, loss = 0.27601644\n",
      "Iteration 109, loss = 0.27170132\n",
      "Iteration 110, loss = 0.27333133\n",
      "Iteration 111, loss = 0.26915415\n",
      "Iteration 112, loss = 0.27636050\n",
      "Iteration 113, loss = 0.27491025\n",
      "Iteration 114, loss = 0.26728478\n",
      "Iteration 115, loss = 0.27085352\n",
      "Iteration 116, loss = 0.26883546\n",
      "Iteration 117, loss = 0.27088530\n",
      "Iteration 118, loss = 0.26943208\n",
      "Iteration 119, loss = 0.26678658\n",
      "Iteration 120, loss = 0.27084051\n",
      "Iteration 121, loss = 0.26774693\n",
      "Iteration 122, loss = 0.26506898\n",
      "Iteration 123, loss = 0.26653789\n",
      "Iteration 124, loss = 0.26684385\n",
      "Iteration 125, loss = 0.25872531\n",
      "Iteration 126, loss = 0.25797516\n",
      "Iteration 127, loss = 0.26389042\n",
      "Iteration 128, loss = 0.26130859\n",
      "Iteration 129, loss = 0.26380747\n",
      "Iteration 130, loss = 0.26511796\n",
      "Iteration 131, loss = 0.26225227\n",
      "Iteration 132, loss = 0.25357489\n",
      "Iteration 133, loss = 0.25800315\n",
      "Iteration 134, loss = 0.26210559\n",
      "Iteration 135, loss = 0.25412631\n",
      "Iteration 136, loss = 0.25534494\n",
      "Iteration 137, loss = 0.25717090\n",
      "Iteration 138, loss = 0.25912685\n",
      "Iteration 139, loss = 0.26436471\n",
      "Iteration 140, loss = 0.25085437\n",
      "Iteration 141, loss = 0.25044905\n",
      "Iteration 142, loss = 0.25343750\n",
      "Iteration 143, loss = 0.25972486\n",
      "Iteration 144, loss = 0.25638069\n",
      "Iteration 145, loss = 0.25677839\n",
      "Iteration 146, loss = 0.25262776\n",
      "Iteration 147, loss = 0.25752832\n",
      "Iteration 148, loss = 0.25757340\n",
      "Iteration 149, loss = 0.25287412\n",
      "Iteration 150, loss = 0.25633557\n",
      "Iteration 151, loss = 0.24655459\n",
      "Iteration 152, loss = 0.25108625\n",
      "Iteration 153, loss = 0.24764083\n",
      "Iteration 154, loss = 0.25304741\n",
      "Iteration 155, loss = 0.24848460\n",
      "Iteration 156, loss = 0.25826775\n",
      "Iteration 157, loss = 0.25175092\n",
      "Iteration 158, loss = 0.25227381\n",
      "Iteration 159, loss = 0.24856129\n",
      "Iteration 160, loss = 0.25145588\n",
      "Iteration 161, loss = 0.24478668\n",
      "Iteration 162, loss = 0.24257255\n",
      "Iteration 163, loss = 0.24201855\n",
      "Iteration 164, loss = 0.24852433\n",
      "Iteration 165, loss = 0.24752699\n",
      "Iteration 166, loss = 0.24988196\n",
      "Iteration 167, loss = 0.24136114\n",
      "Iteration 168, loss = 0.24563343\n",
      "Iteration 169, loss = 0.24972890\n",
      "Iteration 170, loss = 0.23625212\n",
      "Iteration 171, loss = 0.24665355\n",
      "Iteration 172, loss = 0.24616397\n",
      "Iteration 173, loss = 0.24543126\n",
      "Iteration 174, loss = 0.23996147\n",
      "Iteration 175, loss = 0.24231237\n",
      "Iteration 176, loss = 0.24194048\n",
      "Iteration 177, loss = 0.24154487\n",
      "Iteration 178, loss = 0.24782227\n",
      "Iteration 179, loss = 0.24191673\n",
      "Iteration 180, loss = 0.25340593\n",
      "Iteration 181, loss = 0.24505360\n",
      "Training loss did not improve more than tol=0.000010 for 10 consecutive epochs. Stopping.\n"
     ]
    }
   ],
   "source": [
    "from sklearn.neural_network import MLPClassifier\n",
    "\n",
    "#model using all features\n",
    "mlp_all = MLPClassifier(hidden_layer_sizes=(32,8),max_iter=300, activation='relu', solver='adam',\n",
    "                   batch_size = 16, learning_rate = 'constant', learning_rate_init = 0.004,\n",
    "                   shuffle = True, verbose = True, random_state = 42, tol=0.00001)\n",
    "\n",
    "mlp_all.fit(X_all_train, y_all_train)\n",
    "y_pred_mlp_all = mlp_all.predict(X_all_test)\n",
    "cr_mlp_all = metrics.classification_report(y_all_test, y_pred_mlp_all)\n",
    "\n",
    "#model using relevant features\n",
    "mlp_final = MLPClassifier(hidden_layer_sizes=(32,8),max_iter=300, activation='relu', solver='adam',\n",
    "                   batch_size = 16, learning_rate = 'constant', learning_rate_init = 0.004,\n",
    "                   shuffle = True, verbose = True, random_state = 42, tol=0.00001)\n",
    "\n",
    "mlp_final.fit(X_final_train, y_final_train)\n",
    "y_pred_mlp_final = mlp_final.predict(X_final_test)\n",
    "cr_mlp_final = metrics.classification_report(y_final_test, y_pred_mlp_final)"
   ]
  },
  {
   "cell_type": "code",
   "execution_count": 43,
   "id": "filled-niagara",
   "metadata": {},
   "outputs": [
    {
     "name": "stdout",
     "output_type": "stream",
     "text": [
      "              precision    recall  f1-score   support\n",
      "\n",
      "           0       0.83      0.82      0.83      1149\n",
      "           1       0.82      0.83      0.82      1121\n",
      "\n",
      "    accuracy                           0.83      2270\n",
      "   macro avg       0.83      0.83      0.83      2270\n",
      "weighted avg       0.83      0.83      0.83      2270\n",
      "\n",
      "              precision    recall  f1-score   support\n",
      "\n",
      "           0       0.83      0.88      0.86      1136\n",
      "           1       0.87      0.82      0.84      1113\n",
      "\n",
      "    accuracy                           0.85      2249\n",
      "   macro avg       0.85      0.85      0.85      2249\n",
      "weighted avg       0.85      0.85      0.85      2249\n",
      "\n"
     ]
    }
   ],
   "source": [
    "print(cr_mlp_all)\n",
    "print(cr_mlp_final)"
   ]
  },
  {
   "cell_type": "markdown",
   "id": "closing-shuttle",
   "metadata": {},
   "source": [
    "### Evaluation"
   ]
  },
  {
   "cell_type": "code",
   "execution_count": 44,
   "id": "packed-philip",
   "metadata": {
    "scrolled": false
   },
   "outputs": [
    {
     "data": {
      "image/png": "[encoded data removed]",
      "text/plain": [
       "<Figure size 432x288 with 1 Axes>"
      ]
     },
     "metadata": {},
     "output_type": "display_data"
    }
   ],
   "source": [
    "# ROC Curve (Receiver Operating Characteristic Curve)\n",
    "# for models using all features\n",
    "fpr_lrm_all, tpr_lrm_all, threshold_lrm_all = metrics.roc_curve(y_all_test, y_pred_lrm_all)\n",
    "fpr_rfm_all, tpr_rfm_all, threshold_rfm_all = metrics.roc_curve(y_all_test, y_pred_rfm_all)\n",
    "fpr_mlp_all, tpr_mlp_all, threshold_mlp_all = metrics.roc_curve(y_all_test, y_pred_mlp_all)\n",
    "# for models using relevant features\n",
    "fpr_lrm_final, tpr_lrm_final, threshold_lrm_final = metrics.roc_curve(y_final_test, y_pred_lrm_final)\n",
    "fpr_rfm_final, tpr_rfm_final, threshold_rfm_final = metrics.roc_curve(y_final_test, y_pred_rfm_final)\n",
    "fpr_mlp_final, tpr_mlp_final, threshold_mlp_final = metrics.roc_curve(y_final_test, y_pred_mlp_final)\n",
    "\n",
    "plt.plot(fpr_lrm_all, tpr_lrm_all, label=\"log_reg_all_feature\")\n",
    "plt.plot(fpr_rfm_all, tpr_rfm_all, label=\"randon_forest_all_feature\")\n",
    "plt.plot(fpr_mlp_all, tpr_mlp_all, label=\"mlp_all_feature\")\n",
    "plt.plot(fpr_lrm_final, tpr_lrm_final, label=\"log_reg_relevant_feature\")\n",
    "plt.plot(fpr_rfm_final, tpr_rfm_final, label=\"randon_forest_relevant_feature\")\n",
    "plt.plot(fpr_mlp_final, tpr_mlp_final, label=\"mlp_relevant_feature\")\n",
    "plt.xlim([0.0, 1.0])\n",
    "plt.ylim([0.0, 1.0])\n",
    "plt.rcParams['font.size'] = 12\n",
    "plt.title('ROC curve')\n",
    "plt.xlabel('False Positive Rate (1 - Specificity)')\n",
    "plt.ylabel('True Positive Rate (Sensitivity)')\n",
    "plt.legend(loc=\"lower right\", fontsize=10)\n",
    "plt.grid(True)"
   ]
  },
  {
   "cell_type": "code",
   "execution_count": 45,
   "id": "dimensional-lender",
   "metadata": {
    "scrolled": true
   },
   "outputs": [
    {
     "name": "stdout",
     "output_type": "stream",
     "text": [
      "ROC AUD\n",
      "Using all features:\n",
      "Logistic Regression: 0.7137323771436823\n",
      "Random Forest: 0.9269263347331466\n",
      "MLP: 0.8255784613545192\n",
      "\n",
      "Using relevant features:\n",
      "Logistic Regression: 0.7019858933475064\n",
      "Random Forest: 0.9181318255444617\n",
      "MLP: 0.8498534445667718\n"
     ]
    }
   ],
   "source": [
    "# AUC (Area Under the Curve)\n",
    "\n",
    "print('ROC AUD')\n",
    "print('Using all features:')\n",
    "print('Logistic Regression: {}'.format(metrics.auc(fpr_lrm_all, tpr_lrm_all)))\n",
    "print('Random Forest: {}'.format(metrics.auc(fpr_rfm_all, tpr_rfm_all)))\n",
    "print('MLP: {}'.format(metrics.auc(fpr_mlp_all, tpr_mlp_all)))\n",
    "print('\\nUsing relevant features:')\n",
    "print('Logistic Regression: {}'.format(metrics.auc(fpr_lrm_final, tpr_lrm_final)))\n",
    "print('Random Forest: {}'.format(metrics.auc(fpr_rfm_final, tpr_rfm_final)))\n",
    "print('MLP: {}'.format(metrics.auc(fpr_mlp_final, tpr_mlp_final)))"
   ]
  },
  {
   "cell_type": "markdown",
   "id": "brown-assembly",
   "metadata": {},
   "source": [
    "Using relevant data, the regression models had lower performance than when we trained them using previous data frame. In another hand, the MLP model performance is greater than before.\n",
    "\n",
    "Dispite of fact that, using final data frame the Random Forest model had lower score, it is less overfitting to the data set. So, I would call it as an improvement in this case.\n",
    "\n",
    "If I need to pick a model, I would choose the MLP model to deploy it, because it is less likely to be overfitting to the data set, like the Random Forest model, and it is better than Logistic Regression model."
   ]
  },
  {
   "cell_type": "markdown",
   "id": "revolutionary-november",
   "metadata": {},
   "source": [
    "## Deploy\n",
    "\n",
    "In this step, the selected model should be deployed to production, for example, using AWS service. However, it is not my intention to do it, because this notebook is for study porpuse and to help me and other people to understand (or at least have an idea) of how CRISP-DM works."
   ]
  }
 ],
 "metadata": {
  "kernelspec": {
   "display_name": "Python 3",
   "language": "python",
   "name": "python3"
  },
  "language_info": {
   "codemirror_mode": {
    "name": "ipython",
    "version": 3
   },
   "file_extension": ".py",
   "mimetype": "text/x-python",
   "name": "python",
   "nbconvert_exporter": "python",
   "pygments_lexer": "ipython3",
   "version": "3.8.8"
  }
 },
 "nbformat": 4,
 "nbformat_minor": 5
}
